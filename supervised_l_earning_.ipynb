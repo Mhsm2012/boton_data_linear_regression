{
  "cells": [
    {
      "cell_type": "markdown",
      "metadata": {
        "id": "view-in-github",
        "colab_type": "text"
      },
      "source": [
        "<a href=\"https://colab.research.google.com/github/Mhsm2012/boton_data_linear_regression/blob/main/supervised_l_earning_.ipynb\" target=\"_parent\"><img src=\"https://colab.research.google.com/assets/colab-badge.svg\" alt=\"Open In Colab\"/></a>"
      ]
    },
    {
      "cell_type": "markdown",
      "metadata": {
        "id": "quDZMpTWggE2"
      },
      "source": [
        "# Machine Learning Foundation\n",
        "\n",
        "## Section 2, Part a: Regression Intro: Transforming Target "
      ]
    },
    {
      "cell_type": "markdown",
      "metadata": {
        "id": "_1zzUf8kggE-"
      },
      "source": [
        "## Learning objectives\n",
        "\n",
        "By the end of this lesson, you will be able to:\n",
        "\n",
        "* Apply transformations to make target variable more normally distributed for regression\n",
        "* Apply inverse transformations to be able to use these in a regression context"
      ]
    },
    {
      "cell_type": "code",
      "execution_count": 1,
      "metadata": {
        "id": "iugjd382ggE_"
      },
      "outputs": [],
      "source": [
        "import numpy as np\n",
        "import pandas as pd\n",
        "import matplotlib.pyplot as plt\n",
        "%matplotlib inline\n",
        "\n",
        "from helper import (plot_exponential_data, \n",
        "                    plot_square_normal_data)\n",
        "\n",
        "import warnings\n",
        "warnings.simplefilter(\"ignore\")"
      ]
    },
    {
      "cell_type": "markdown",
      "metadata": {
        "id": "Kh55qS9MggFB"
      },
      "source": [
        "### Loading in Boston Data"
      ]
    },
    {
      "cell_type": "markdown",
      "metadata": {
        "id": "JfNcd-2QggFB"
      },
      "source": [
        "**Note:** See `helper.py` file to see how boston data is read in from SciKit Learn."
      ]
    },
    {
      "cell_type": "code",
      "execution_count": 2,
      "metadata": {
        "id": "L74q17tNggFC"
      },
      "outputs": [],
      "source": [
        "from helper import boston_dataframe\n",
        "boston_data = boston_dataframe()"
      ]
    },
    {
      "cell_type": "code",
      "execution_count": 4,
      "metadata": {
        "colab": {
          "base_uri": "https://localhost:8080/",
          "height": 520
        },
        "id": "Uk4v5QHVggFD",
        "outputId": "b2eb76e2-a724-483a-80ac-d621a431c4bb"
      },
      "outputs": [
        {
          "output_type": "execute_result",
          "data": {
            "text/html": [
              "\n",
              "  <div id=\"df-65dc27b2-2a08-400f-bb7e-5335a60e4c56\">\n",
              "    <div class=\"colab-df-container\">\n",
              "      <div>\n",
              "<style scoped>\n",
              "    .dataframe tbody tr th:only-of-type {\n",
              "        vertical-align: middle;\n",
              "    }\n",
              "\n",
              "    .dataframe tbody tr th {\n",
              "        vertical-align: top;\n",
              "    }\n",
              "\n",
              "    .dataframe thead th {\n",
              "        text-align: right;\n",
              "    }\n",
              "</style>\n",
              "<table border=\"1\" class=\"dataframe\">\n",
              "  <thead>\n",
              "    <tr style=\"text-align: right;\">\n",
              "      <th></th>\n",
              "      <th>CRIM</th>\n",
              "      <th>ZN</th>\n",
              "      <th>INDUS</th>\n",
              "      <th>CHAS</th>\n",
              "      <th>NOX</th>\n",
              "      <th>RM</th>\n",
              "      <th>AGE</th>\n",
              "      <th>DIS</th>\n",
              "      <th>RAD</th>\n",
              "      <th>TAX</th>\n",
              "      <th>PTRATIO</th>\n",
              "      <th>B</th>\n",
              "      <th>LSTAT</th>\n",
              "      <th>MEDV</th>\n",
              "    </tr>\n",
              "  </thead>\n",
              "  <tbody>\n",
              "    <tr>\n",
              "      <th>0</th>\n",
              "      <td>0.00632</td>\n",
              "      <td>18.0</td>\n",
              "      <td>2.31</td>\n",
              "      <td>0.0</td>\n",
              "      <td>0.538</td>\n",
              "      <td>6.575</td>\n",
              "      <td>65.2</td>\n",
              "      <td>4.0900</td>\n",
              "      <td>1.0</td>\n",
              "      <td>296.0</td>\n",
              "      <td>15.3</td>\n",
              "      <td>396.90</td>\n",
              "      <td>4.98</td>\n",
              "      <td>24.0</td>\n",
              "    </tr>\n",
              "    <tr>\n",
              "      <th>1</th>\n",
              "      <td>0.02731</td>\n",
              "      <td>0.0</td>\n",
              "      <td>7.07</td>\n",
              "      <td>0.0</td>\n",
              "      <td>0.469</td>\n",
              "      <td>6.421</td>\n",
              "      <td>78.9</td>\n",
              "      <td>4.9671</td>\n",
              "      <td>2.0</td>\n",
              "      <td>242.0</td>\n",
              "      <td>17.8</td>\n",
              "      <td>396.90</td>\n",
              "      <td>9.14</td>\n",
              "      <td>21.6</td>\n",
              "    </tr>\n",
              "    <tr>\n",
              "      <th>2</th>\n",
              "      <td>0.02729</td>\n",
              "      <td>0.0</td>\n",
              "      <td>7.07</td>\n",
              "      <td>0.0</td>\n",
              "      <td>0.469</td>\n",
              "      <td>7.185</td>\n",
              "      <td>61.1</td>\n",
              "      <td>4.9671</td>\n",
              "      <td>2.0</td>\n",
              "      <td>242.0</td>\n",
              "      <td>17.8</td>\n",
              "      <td>392.83</td>\n",
              "      <td>4.03</td>\n",
              "      <td>34.7</td>\n",
              "    </tr>\n",
              "    <tr>\n",
              "      <th>3</th>\n",
              "      <td>0.03237</td>\n",
              "      <td>0.0</td>\n",
              "      <td>2.18</td>\n",
              "      <td>0.0</td>\n",
              "      <td>0.458</td>\n",
              "      <td>6.998</td>\n",
              "      <td>45.8</td>\n",
              "      <td>6.0622</td>\n",
              "      <td>3.0</td>\n",
              "      <td>222.0</td>\n",
              "      <td>18.7</td>\n",
              "      <td>394.63</td>\n",
              "      <td>2.94</td>\n",
              "      <td>33.4</td>\n",
              "    </tr>\n",
              "    <tr>\n",
              "      <th>4</th>\n",
              "      <td>0.06905</td>\n",
              "      <td>0.0</td>\n",
              "      <td>2.18</td>\n",
              "      <td>0.0</td>\n",
              "      <td>0.458</td>\n",
              "      <td>7.147</td>\n",
              "      <td>54.2</td>\n",
              "      <td>6.0622</td>\n",
              "      <td>3.0</td>\n",
              "      <td>222.0</td>\n",
              "      <td>18.7</td>\n",
              "      <td>396.90</td>\n",
              "      <td>5.33</td>\n",
              "      <td>36.2</td>\n",
              "    </tr>\n",
              "    <tr>\n",
              "      <th>5</th>\n",
              "      <td>0.02985</td>\n",
              "      <td>0.0</td>\n",
              "      <td>2.18</td>\n",
              "      <td>0.0</td>\n",
              "      <td>0.458</td>\n",
              "      <td>6.430</td>\n",
              "      <td>58.7</td>\n",
              "      <td>6.0622</td>\n",
              "      <td>3.0</td>\n",
              "      <td>222.0</td>\n",
              "      <td>18.7</td>\n",
              "      <td>394.12</td>\n",
              "      <td>5.21</td>\n",
              "      <td>28.7</td>\n",
              "    </tr>\n",
              "    <tr>\n",
              "      <th>6</th>\n",
              "      <td>0.08829</td>\n",
              "      <td>12.5</td>\n",
              "      <td>7.87</td>\n",
              "      <td>0.0</td>\n",
              "      <td>0.524</td>\n",
              "      <td>6.012</td>\n",
              "      <td>66.6</td>\n",
              "      <td>5.5605</td>\n",
              "      <td>5.0</td>\n",
              "      <td>311.0</td>\n",
              "      <td>15.2</td>\n",
              "      <td>395.60</td>\n",
              "      <td>12.43</td>\n",
              "      <td>22.9</td>\n",
              "    </tr>\n",
              "    <tr>\n",
              "      <th>7</th>\n",
              "      <td>0.14455</td>\n",
              "      <td>12.5</td>\n",
              "      <td>7.87</td>\n",
              "      <td>0.0</td>\n",
              "      <td>0.524</td>\n",
              "      <td>6.172</td>\n",
              "      <td>96.1</td>\n",
              "      <td>5.9505</td>\n",
              "      <td>5.0</td>\n",
              "      <td>311.0</td>\n",
              "      <td>15.2</td>\n",
              "      <td>396.90</td>\n",
              "      <td>19.15</td>\n",
              "      <td>27.1</td>\n",
              "    </tr>\n",
              "    <tr>\n",
              "      <th>8</th>\n",
              "      <td>0.21124</td>\n",
              "      <td>12.5</td>\n",
              "      <td>7.87</td>\n",
              "      <td>0.0</td>\n",
              "      <td>0.524</td>\n",
              "      <td>5.631</td>\n",
              "      <td>100.0</td>\n",
              "      <td>6.0821</td>\n",
              "      <td>5.0</td>\n",
              "      <td>311.0</td>\n",
              "      <td>15.2</td>\n",
              "      <td>386.63</td>\n",
              "      <td>29.93</td>\n",
              "      <td>16.5</td>\n",
              "    </tr>\n",
              "    <tr>\n",
              "      <th>9</th>\n",
              "      <td>0.17004</td>\n",
              "      <td>12.5</td>\n",
              "      <td>7.87</td>\n",
              "      <td>0.0</td>\n",
              "      <td>0.524</td>\n",
              "      <td>6.004</td>\n",
              "      <td>85.9</td>\n",
              "      <td>6.5921</td>\n",
              "      <td>5.0</td>\n",
              "      <td>311.0</td>\n",
              "      <td>15.2</td>\n",
              "      <td>386.71</td>\n",
              "      <td>17.10</td>\n",
              "      <td>18.9</td>\n",
              "    </tr>\n",
              "    <tr>\n",
              "      <th>10</th>\n",
              "      <td>0.22489</td>\n",
              "      <td>12.5</td>\n",
              "      <td>7.87</td>\n",
              "      <td>0.0</td>\n",
              "      <td>0.524</td>\n",
              "      <td>6.377</td>\n",
              "      <td>94.3</td>\n",
              "      <td>6.3467</td>\n",
              "      <td>5.0</td>\n",
              "      <td>311.0</td>\n",
              "      <td>15.2</td>\n",
              "      <td>392.52</td>\n",
              "      <td>20.45</td>\n",
              "      <td>15.0</td>\n",
              "    </tr>\n",
              "    <tr>\n",
              "      <th>11</th>\n",
              "      <td>0.11747</td>\n",
              "      <td>12.5</td>\n",
              "      <td>7.87</td>\n",
              "      <td>0.0</td>\n",
              "      <td>0.524</td>\n",
              "      <td>6.009</td>\n",
              "      <td>82.9</td>\n",
              "      <td>6.2267</td>\n",
              "      <td>5.0</td>\n",
              "      <td>311.0</td>\n",
              "      <td>15.2</td>\n",
              "      <td>396.90</td>\n",
              "      <td>13.27</td>\n",
              "      <td>18.9</td>\n",
              "    </tr>\n",
              "    <tr>\n",
              "      <th>12</th>\n",
              "      <td>0.09378</td>\n",
              "      <td>12.5</td>\n",
              "      <td>7.87</td>\n",
              "      <td>0.0</td>\n",
              "      <td>0.524</td>\n",
              "      <td>5.889</td>\n",
              "      <td>39.0</td>\n",
              "      <td>5.4509</td>\n",
              "      <td>5.0</td>\n",
              "      <td>311.0</td>\n",
              "      <td>15.2</td>\n",
              "      <td>390.50</td>\n",
              "      <td>15.71</td>\n",
              "      <td>21.7</td>\n",
              "    </tr>\n",
              "    <tr>\n",
              "      <th>13</th>\n",
              "      <td>0.62976</td>\n",
              "      <td>0.0</td>\n",
              "      <td>8.14</td>\n",
              "      <td>0.0</td>\n",
              "      <td>0.538</td>\n",
              "      <td>5.949</td>\n",
              "      <td>61.8</td>\n",
              "      <td>4.7075</td>\n",
              "      <td>4.0</td>\n",
              "      <td>307.0</td>\n",
              "      <td>21.0</td>\n",
              "      <td>396.90</td>\n",
              "      <td>8.26</td>\n",
              "      <td>20.4</td>\n",
              "    </tr>\n",
              "    <tr>\n",
              "      <th>14</th>\n",
              "      <td>0.63796</td>\n",
              "      <td>0.0</td>\n",
              "      <td>8.14</td>\n",
              "      <td>0.0</td>\n",
              "      <td>0.538</td>\n",
              "      <td>6.096</td>\n",
              "      <td>84.5</td>\n",
              "      <td>4.4619</td>\n",
              "      <td>4.0</td>\n",
              "      <td>307.0</td>\n",
              "      <td>21.0</td>\n",
              "      <td>380.02</td>\n",
              "      <td>10.26</td>\n",
              "      <td>18.2</td>\n",
              "    </tr>\n",
              "  </tbody>\n",
              "</table>\n",
              "</div>\n",
              "      <button class=\"colab-df-convert\" onclick=\"convertToInteractive('df-65dc27b2-2a08-400f-bb7e-5335a60e4c56')\"\n",
              "              title=\"Convert this dataframe to an interactive table.\"\n",
              "              style=\"display:none;\">\n",
              "        \n",
              "  <svg xmlns=\"http://www.w3.org/2000/svg\" height=\"24px\"viewBox=\"0 0 24 24\"\n",
              "       width=\"24px\">\n",
              "    <path d=\"M0 0h24v24H0V0z\" fill=\"none\"/>\n",
              "    <path d=\"M18.56 5.44l.94 2.06.94-2.06 2.06-.94-2.06-.94-.94-2.06-.94 2.06-2.06.94zm-11 1L8.5 8.5l.94-2.06 2.06-.94-2.06-.94L8.5 2.5l-.94 2.06-2.06.94zm10 10l.94 2.06.94-2.06 2.06-.94-2.06-.94-.94-2.06-.94 2.06-2.06.94z\"/><path d=\"M17.41 7.96l-1.37-1.37c-.4-.4-.92-.59-1.43-.59-.52 0-1.04.2-1.43.59L10.3 9.45l-7.72 7.72c-.78.78-.78 2.05 0 2.83L4 21.41c.39.39.9.59 1.41.59.51 0 1.02-.2 1.41-.59l7.78-7.78 2.81-2.81c.8-.78.8-2.07 0-2.86zM5.41 20L4 18.59l7.72-7.72 1.47 1.35L5.41 20z\"/>\n",
              "  </svg>\n",
              "      </button>\n",
              "      \n",
              "  <style>\n",
              "    .colab-df-container {\n",
              "      display:flex;\n",
              "      flex-wrap:wrap;\n",
              "      gap: 12px;\n",
              "    }\n",
              "\n",
              "    .colab-df-convert {\n",
              "      background-color: #E8F0FE;\n",
              "      border: none;\n",
              "      border-radius: 50%;\n",
              "      cursor: pointer;\n",
              "      display: none;\n",
              "      fill: #1967D2;\n",
              "      height: 32px;\n",
              "      padding: 0 0 0 0;\n",
              "      width: 32px;\n",
              "    }\n",
              "\n",
              "    .colab-df-convert:hover {\n",
              "      background-color: #E2EBFA;\n",
              "      box-shadow: 0px 1px 2px rgba(60, 64, 67, 0.3), 0px 1px 3px 1px rgba(60, 64, 67, 0.15);\n",
              "      fill: #174EA6;\n",
              "    }\n",
              "\n",
              "    [theme=dark] .colab-df-convert {\n",
              "      background-color: #3B4455;\n",
              "      fill: #D2E3FC;\n",
              "    }\n",
              "\n",
              "    [theme=dark] .colab-df-convert:hover {\n",
              "      background-color: #434B5C;\n",
              "      box-shadow: 0px 1px 3px 1px rgba(0, 0, 0, 0.15);\n",
              "      filter: drop-shadow(0px 1px 2px rgba(0, 0, 0, 0.3));\n",
              "      fill: #FFFFFF;\n",
              "    }\n",
              "  </style>\n",
              "\n",
              "      <script>\n",
              "        const buttonEl =\n",
              "          document.querySelector('#df-65dc27b2-2a08-400f-bb7e-5335a60e4c56 button.colab-df-convert');\n",
              "        buttonEl.style.display =\n",
              "          google.colab.kernel.accessAllowed ? 'block' : 'none';\n",
              "\n",
              "        async function convertToInteractive(key) {\n",
              "          const element = document.querySelector('#df-65dc27b2-2a08-400f-bb7e-5335a60e4c56');\n",
              "          const dataTable =\n",
              "            await google.colab.kernel.invokeFunction('convertToInteractive',\n",
              "                                                     [key], {});\n",
              "          if (!dataTable) return;\n",
              "\n",
              "          const docLinkHtml = 'Like what you see? Visit the ' +\n",
              "            '<a target=\"_blank\" href=https://colab.research.google.com/notebooks/data_table.ipynb>data table notebook</a>'\n",
              "            + ' to learn more about interactive tables.';\n",
              "          element.innerHTML = '';\n",
              "          dataTable['output_type'] = 'display_data';\n",
              "          await google.colab.output.renderOutput(dataTable, element);\n",
              "          const docLink = document.createElement('div');\n",
              "          docLink.innerHTML = docLinkHtml;\n",
              "          element.appendChild(docLink);\n",
              "        }\n",
              "      </script>\n",
              "    </div>\n",
              "  </div>\n",
              "  "
            ],
            "text/plain": [
              "       CRIM    ZN  INDUS  CHAS    NOX  ...    TAX  PTRATIO       B  LSTAT  MEDV\n",
              "0   0.00632  18.0   2.31   0.0  0.538  ...  296.0     15.3  396.90   4.98  24.0\n",
              "1   0.02731   0.0   7.07   0.0  0.469  ...  242.0     17.8  396.90   9.14  21.6\n",
              "2   0.02729   0.0   7.07   0.0  0.469  ...  242.0     17.8  392.83   4.03  34.7\n",
              "3   0.03237   0.0   2.18   0.0  0.458  ...  222.0     18.7  394.63   2.94  33.4\n",
              "4   0.06905   0.0   2.18   0.0  0.458  ...  222.0     18.7  396.90   5.33  36.2\n",
              "5   0.02985   0.0   2.18   0.0  0.458  ...  222.0     18.7  394.12   5.21  28.7\n",
              "6   0.08829  12.5   7.87   0.0  0.524  ...  311.0     15.2  395.60  12.43  22.9\n",
              "7   0.14455  12.5   7.87   0.0  0.524  ...  311.0     15.2  396.90  19.15  27.1\n",
              "8   0.21124  12.5   7.87   0.0  0.524  ...  311.0     15.2  386.63  29.93  16.5\n",
              "9   0.17004  12.5   7.87   0.0  0.524  ...  311.0     15.2  386.71  17.10  18.9\n",
              "10  0.22489  12.5   7.87   0.0  0.524  ...  311.0     15.2  392.52  20.45  15.0\n",
              "11  0.11747  12.5   7.87   0.0  0.524  ...  311.0     15.2  396.90  13.27  18.9\n",
              "12  0.09378  12.5   7.87   0.0  0.524  ...  311.0     15.2  390.50  15.71  21.7\n",
              "13  0.62976   0.0   8.14   0.0  0.538  ...  307.0     21.0  396.90   8.26  20.4\n",
              "14  0.63796   0.0   8.14   0.0  0.538  ...  307.0     21.0  380.02  10.26  18.2\n",
              "\n",
              "[15 rows x 14 columns]"
            ]
          },
          "metadata": {},
          "execution_count": 4
        }
      ],
      "source": [
        "boston_data.head(15)"
      ]
    },
    {
      "cell_type": "markdown",
      "metadata": {
        "id": "wNmSi1dkggFE"
      },
      "source": [
        "### Determining Normality"
      ]
    },
    {
      "cell_type": "markdown",
      "metadata": {
        "id": "w6uC7duKggFF"
      },
      "source": [
        "Making our target variable normally distributed often will lead to better results\n",
        "\n",
        "If our target is not normally distributed, we can apply a transformation to it and then fit our regression to predict the transformed values.\n",
        "\n",
        "How can we tell if our target is normally distributed? There are two ways:\n",
        "\n",
        "* Visually\n",
        "* Using a statistical test"
      ]
    },
    {
      "cell_type": "markdown",
      "metadata": {
        "id": "xN3m8FALggFH"
      },
      "source": [
        "#### Visually"
      ]
    },
    {
      "cell_type": "markdown",
      "metadata": {
        "id": "9KU1NzmCggFH"
      },
      "source": [
        "Plotting a histogram:"
      ]
    },
    {
      "cell_type": "code",
      "execution_count": 5,
      "metadata": {
        "colab": {
          "base_uri": "https://localhost:8080/",
          "height": 266
        },
        "id": "CIu3_IEcggFI",
        "outputId": "00607c17-cf12-4a48-8098-a7739f5fae4c"
      },
      "outputs": [
        {
          "output_type": "display_data",
          "data": {
            "image/png": "[encoded data removed]",
            "text/plain": [
              "<Figure size 432x288 with 1 Axes>"
            ]
          },
          "metadata": {
            "needs_background": "light"
          }
        }
      ],
      "source": [
        "boston_data.MEDV.hist();"
      ]
    },
    {
      "cell_type": "markdown",
      "metadata": {
        "id": "wN973bUPggFI"
      },
      "source": [
        "Does not look normal due to that right tail. Let's try to verify statistically:"
      ]
    },
    {
      "cell_type": "code",
      "execution_count": 46,
      "metadata": {
        "id": "Z3qImiR0ggFI"
      },
      "outputs": [],
      "source": [
        "from scipy.stats.mstats import normaltest # D'Agostino K^2 Test"
      ]
    },
    {
      "cell_type": "markdown",
      "metadata": {
        "id": "yPhUA2VdggFJ"
      },
      "source": [
        "Without getting into Bayesian vs. frequentist debates, for the purposes of this lesson, the following will suffice:\n",
        "\n",
        "* This is a statistical test that tests whether a distribution is normally distributed or not. It isn't perfect, but suffice it to say: \n",
        "    * This test outputs a \"p-value\". The _higher_ this p-value is the _closer_ the distribution is to normal.\n",
        "    * Frequentist statisticians would say that you accept that the distribution is normal (more specifically: fail to reject the null hypothesis that it is normal) if p > 0.05."
      ]
    },
    {
      "cell_type": "code",
      "execution_count": 47,
      "metadata": {
        "colab": {
          "base_uri": "https://localhost:8080/"
        },
        "id": "Zgc_orhiggFJ",
        "outputId": "ba85e25b-2e4c-4c79-e2b1-963fcd9ed9da"
      },
      "outputs": [
        {
          "output_type": "execute_result",
          "data": {
            "text/plain": [
              "NormaltestResult(statistic=90.9746873700967, pvalue=1.7583188871696095e-20)"
            ]
          },
          "metadata": {},
          "execution_count": 47
        }
      ],
      "source": [
        "normaltest(boston_data.MEDV.values)"
      ]
    },
    {
      "cell_type": "markdown",
      "metadata": {
        "id": "mP0hneM0ggFK"
      },
      "source": [
        "p-value _extremely_ low. Our y variable we've been dealing with this whole time was not normally distributed!"
      ]
    },
    {
      "cell_type": "markdown",
      "metadata": {
        "id": "-ZDqBRCAggFK"
      },
      "source": [
        "Linear Regression assumes a normally distributed residuals which can be aided by transforming y variable. Let's try some common transformations to try and get y to be normally distributed: \n",
        "\n",
        "* Log\n",
        "* Square root\n",
        "* Box cox"
      ]
    },
    {
      "cell_type": "markdown",
      "metadata": {
        "id": "L8LFKEfmggFK"
      },
      "source": [
        "\n",
        "### Testing log"
      ]
    },
    {
      "cell_type": "markdown",
      "metadata": {
        "id": "EQNP_GNrggFL"
      },
      "source": [
        "The log transform can transform data that is significantly skewed right to be more normally distributed:"
      ]
    },
    {
      "cell_type": "code",
      "execution_count": 48,
      "metadata": {
        "colab": {
          "base_uri": "https://localhost:8080/",
          "height": 264
        },
        "id": "bO8NssAuggFL",
        "outputId": "eac78fee-1f80-401a-81b0-d9bf079d1ee5"
      },
      "outputs": [
        {
          "output_type": "display_data",
          "data": {
            "image/png": "[encoded data removed]",
            "text/plain": [
              "<Figure size 432x288 with 1 Axes>"
            ]
          },
          "metadata": {
            "needs_background": "light"
          }
        }
      ],
      "source": [
        "data = plot_exponential_data()"
      ]
    },
    {
      "cell_type": "code",
      "execution_count": 49,
      "metadata": {
        "colab": {
          "base_uri": "https://localhost:8080/",
          "height": 264
        },
        "id": "_2FTPjCtggFL",
        "outputId": "4df71596-a6b1-469a-d3ff-a0595213281d"
      },
      "outputs": [
        {
          "output_type": "display_data",
          "data": {
            "image/png": "[encoded data removed]",
            "text/plain": [
              "<Figure size 432x288 with 1 Axes>"
            ]
          },
          "metadata": {
            "needs_background": "light"
          }
        }
      ],
      "source": [
        "plt.hist(np.log(data));"
      ]
    },
    {
      "cell_type": "markdown",
      "metadata": {
        "id": "2vDR0jkAggFM"
      },
      "source": [
        "**Apply transform to Boston data:**"
      ]
    },
    {
      "cell_type": "code",
      "execution_count": 10,
      "metadata": {
        "id": "W770l8F3ggFM"
      },
      "outputs": [],
      "source": [
        "log_medv = np.log(boston_data.MEDV)"
      ]
    },
    {
      "cell_type": "code",
      "execution_count": 11,
      "metadata": {
        "colab": {
          "base_uri": "https://localhost:8080/",
          "height": 264
        },
        "id": "OBl76ke-ggFM",
        "outputId": "6df1620c-87f0-4ad5-d6aa-5d5e2feb47ea"
      },
      "outputs": [
        {
          "output_type": "display_data",
          "data": {
            "image/png": "[encoded data removed]",
            "text/plain": [
              "<Figure size 432x288 with 1 Axes>"
            ]
          },
          "metadata": {
            "needs_background": "light"
          }
        }
      ],
      "source": [
        "log_medv.hist();"
      ]
    },
    {
      "cell_type": "code",
      "execution_count": 12,
      "metadata": {
        "colab": {
          "base_uri": "https://localhost:8080/"
        },
        "id": "loJnPfM-ggFN",
        "outputId": "88404f09-1432-4eb0-dfdc-411055edf90d"
      },
      "outputs": [
        {
          "output_type": "execute_result",
          "data": {
            "text/plain": [
              "NormaltestResult(statistic=17.21801696640698, pvalue=0.00018245472768345196)"
            ]
          },
          "metadata": {},
          "execution_count": 12
        }
      ],
      "source": [
        "normaltest(log_medv)"
      ]
    },
    {
      "cell_type": "markdown",
      "metadata": {
        "id": "eKOqeypFggFN"
      },
      "source": [
        "Conclusion: closer, but still not normal."
      ]
    },
    {
      "cell_type": "markdown",
      "metadata": {
        "id": "HcoTV7xzggFN"
      },
      "source": [
        "### Exercise: \n",
        "\n",
        "The square root transformation is another transformation that can transform non-normally distributed data into normally distributed data:"
      ]
    },
    {
      "cell_type": "code",
      "execution_count": 13,
      "metadata": {
        "scrolled": true,
        "colab": {
          "base_uri": "https://localhost:8080/",
          "height": 264
        },
        "id": "2jj9FZdkggFN",
        "outputId": "a916dcd9-0889-4b92-8634-9a57d92127de"
      },
      "outputs": [
        {
          "output_type": "display_data",
          "data": {
            "image/png": "[encoded data removed]",
            "text/plain": [
              "<Figure size 432x288 with 1 Axes>"
            ]
          },
          "metadata": {
            "needs_background": "light"
          }
        }
      ],
      "source": [
        "data = plot_square_normal_data()"
      ]
    },
    {
      "cell_type": "markdown",
      "metadata": {
        "id": "Oe-igo2-ggFO"
      },
      "source": [
        "Slightly skewed right."
      ]
    },
    {
      "cell_type": "code",
      "execution_count": 14,
      "metadata": {
        "scrolled": true,
        "colab": {
          "base_uri": "https://localhost:8080/",
          "height": 264
        },
        "id": "_qLWoaaSggFO",
        "outputId": "7e6f302e-5dfe-4099-d239-71210d0dd9fa"
      },
      "outputs": [
        {
          "output_type": "display_data",
          "data": {
            "image/png": "[encoded data removed]",
            "text/plain": [
              "<Figure size 432x288 with 1 Axes>"
            ]
          },
          "metadata": {
            "needs_background": "light"
          }
        }
      ],
      "source": [
        "plt.hist(np.sqrt(data));"
      ]
    },
    {
      "cell_type": "markdown",
      "metadata": {
        "id": "ck5BzpEXggFO"
      },
      "source": [
        "Apply the square root transformation to the Boston data target and test whether the result is normally distributed."
      ]
    },
    {
      "cell_type": "code",
      "execution_count": 15,
      "metadata": {
        "id": "G6uQ9AIyggFO"
      },
      "outputs": [],
      "source": [
        "pass # your code here"
      ]
    },
    {
      "cell_type": "code",
      "execution_count": 16,
      "metadata": {
        "colab": {
          "base_uri": "https://localhost:8080/",
          "height": 357
        },
        "id": "qnM0XVRBggFP",
        "outputId": "5bd66dcb-9d6f-4fdc-b1fb-d0a1cd8ebaee"
      },
      "outputs": [
        {
          "output_type": "execute_result",
          "data": {
            "text/plain": [
              "(array([  9.,  18.,  40.,  67., 131., 121.,  48.,  36.,  10.,  26.]),\n",
              " array([2.23606798, 2.71956796, 3.20306794, 3.68656793, 4.17006791,\n",
              "        4.65356789, 5.13706788, 5.62056786, 6.10406784, 6.58756783,\n",
              "        7.07106781]),\n",
              " <a list of 10 Patch objects>)"
            ]
          },
          "metadata": {},
          "execution_count": 16
        },
        {
          "output_type": "display_data",
          "data": {
            "image/png": "[encoded data removed]",
            "text/plain": [
              "<Figure size 432x288 with 1 Axes>"
            ]
          },
          "metadata": {
            "needs_background": "light"
          }
        }
      ],
      "source": [
        "# Instructor Solution\n",
        "\n",
        "sqrt_medv = np.sqrt(boston_data.MEDV)\n",
        "plt.hist(sqrt_medv)"
      ]
    },
    {
      "cell_type": "code",
      "execution_count": 17,
      "metadata": {
        "colab": {
          "base_uri": "https://localhost:8080/"
        },
        "id": "IHeixRPvggFP",
        "outputId": "245b216e-a755-4fb7-e8f0-3a3e1bfaf5ec"
      },
      "outputs": [
        {
          "output_type": "execute_result",
          "data": {
            "text/plain": [
              "NormaltestResult(statistic=20.487090826863067, pvalue=3.558645701429252e-05)"
            ]
          },
          "metadata": {},
          "execution_count": 17
        }
      ],
      "source": [
        "normaltest(sqrt_medv)"
      ]
    },
    {
      "cell_type": "markdown",
      "metadata": {
        "id": "HgxjVwv1ggFP"
      },
      "source": [
        "### Box cox"
      ]
    },
    {
      "cell_type": "markdown",
      "metadata": {
        "id": "tpZy0Tn_ggFP"
      },
      "source": [
        "The box cox transformation is a parametrized transformation that tries to get distributions \"as close to a normal distribution as possible\".\n",
        "\n",
        "It is defined as:\n",
        "\n",
        "$$ \\text{boxcox}(y_i) = \\frac{y_i^{\\lambda} - 1}{\\lambda} $$\n",
        "\n",
        "You can think of as a generalization of the square root function: the square root function uses the exponent of 0.5, but box cox lets its exponent vary so it can find the best one."
      ]
    },
    {
      "cell_type": "code",
      "execution_count": 18,
      "metadata": {
        "id": "anugL7G0ggFQ"
      },
      "outputs": [],
      "source": [
        "from scipy.stats import boxcox"
      ]
    },
    {
      "cell_type": "code",
      "execution_count": 19,
      "metadata": {
        "id": "gHGjYK_6ggFQ"
      },
      "outputs": [],
      "source": [
        "bc_result = boxcox(boston_data.MEDV)\n",
        "boxcox_medv = bc_result[0]\n",
        "lam = bc_result[1]"
      ]
    },
    {
      "cell_type": "code",
      "execution_count": 20,
      "metadata": {
        "scrolled": true,
        "colab": {
          "base_uri": "https://localhost:8080/"
        },
        "id": "o8Y1MWqKggFQ",
        "outputId": "5c6a7f7c-5718-40a8-8cf4-5e5cbbd6bf63"
      },
      "outputs": [
        {
          "output_type": "execute_result",
          "data": {
            "text/plain": [
              "0.2166209012915364"
            ]
          },
          "metadata": {},
          "execution_count": 20
        }
      ],
      "source": [
        "lam"
      ]
    },
    {
      "cell_type": "code",
      "execution_count": 21,
      "metadata": {
        "colab": {
          "base_uri": "https://localhost:8080/",
          "height": 266
        },
        "id": "IXeXtytpggFQ",
        "outputId": "ac689189-102f-4779-96df-06298cd0e3be"
      },
      "outputs": [
        {
          "output_type": "display_data",
          "data": {
            "image/png": "[encoded data removed]",
            "text/plain": [
              "<Figure size 432x288 with 1 Axes>"
            ]
          },
          "metadata": {
            "needs_background": "light"
          }
        }
      ],
      "source": [
        "boston_data['MEDV'].hist();"
      ]
    },
    {
      "cell_type": "code",
      "execution_count": 22,
      "metadata": {
        "colab": {
          "base_uri": "https://localhost:8080/",
          "height": 264
        },
        "id": "j2i9oHgQggFR",
        "outputId": "f5dd8796-946e-45c4-e683-a4d8b9a1aab6"
      },
      "outputs": [
        {
          "output_type": "display_data",
          "data": {
            "image/png": "[encoded data removed]",
            "text/plain": [
              "<Figure size 432x288 with 1 Axes>"
            ]
          },
          "metadata": {
            "needs_background": "light"
          }
        }
      ],
      "source": [
        "plt.hist(boxcox_medv);"
      ]
    },
    {
      "cell_type": "code",
      "execution_count": 23,
      "metadata": {
        "scrolled": true,
        "colab": {
          "base_uri": "https://localhost:8080/"
        },
        "id": "M3d4mEBvggFR",
        "outputId": "cc448deb-e08f-4eba-e13e-2611a2ebade8"
      },
      "outputs": [
        {
          "output_type": "execute_result",
          "data": {
            "text/plain": [
              "NormaltestResult(statistic=4.513528775533045, pvalue=0.1046886692817602)"
            ]
          },
          "metadata": {},
          "execution_count": 23
        }
      ],
      "source": [
        "normaltest(boxcox_medv)"
      ]
    },
    {
      "cell_type": "markdown",
      "metadata": {
        "id": "dXtCZoYcggFR"
      },
      "source": [
        "Significantly more normally distributed (according to p value) than the other two distributions - above 0.05, even!\n",
        "\n",
        "Now that we have a normally distributed y-variable, let's try a regression!"
      ]
    },
    {
      "cell_type": "markdown",
      "metadata": {
        "id": "DbwAhwSGggFR"
      },
      "source": [
        "### Testing regression:"
      ]
    },
    {
      "cell_type": "code",
      "execution_count": 24,
      "metadata": {
        "id": "rC0sgwR6ggFR"
      },
      "outputs": [],
      "source": [
        "from sklearn.linear_model import LinearRegression\n",
        "from sklearn.metrics import r2_score\n",
        "from sklearn.model_selection import train_test_split\n",
        "from sklearn.preprocessing import (StandardScaler, \n",
        "                                   PolynomialFeatures)"
      ]
    },
    {
      "cell_type": "code",
      "execution_count": 25,
      "metadata": {
        "id": "tiG7PifPggFR"
      },
      "outputs": [],
      "source": [
        "lr = LinearRegression()"
      ]
    },
    {
      "cell_type": "markdown",
      "metadata": {
        "id": "eV9w2ZAhggFS"
      },
      "source": [
        "**Reload clean version of `boston_data`:**"
      ]
    },
    {
      "cell_type": "code",
      "execution_count": 26,
      "metadata": {
        "id": "slWpPOprggFS"
      },
      "outputs": [],
      "source": [
        "boston_data = boston_dataframe()"
      ]
    },
    {
      "cell_type": "markdown",
      "metadata": {
        "id": "OtNNdbWhggFS"
      },
      "source": [
        "Same steps as before."
      ]
    },
    {
      "cell_type": "markdown",
      "metadata": {
        "id": "3SvulomSggFS"
      },
      "source": [
        "**Create X and y**"
      ]
    },
    {
      "cell_type": "code",
      "execution_count": 27,
      "metadata": {
        "id": "TfEP_Il7ggFS"
      },
      "outputs": [],
      "source": [
        "y_col = \"MEDV\"\n",
        "\n",
        "X = boston_data.drop(y_col, axis=1)\n",
        "y = boston_data[y_col]"
      ]
    },
    {
      "cell_type": "markdown",
      "metadata": {
        "id": "W7XZnOaxggFT"
      },
      "source": [
        "**Create Polynomial Features**"
      ]
    },
    {
      "cell_type": "code",
      "execution_count": 28,
      "metadata": {
        "id": "eE13cZ3IggFT"
      },
      "outputs": [],
      "source": [
        "pf = PolynomialFeatures(degree=2, include_bias=False)\n",
        "X_pf = pf.fit_transform(X)"
      ]
    },
    {
      "cell_type": "markdown",
      "metadata": {
        "id": "cLZe38azggFT"
      },
      "source": [
        "**Train test split**"
      ]
    },
    {
      "cell_type": "code",
      "execution_count": 29,
      "metadata": {
        "id": "xDRLqWX-ggFT"
      },
      "outputs": [],
      "source": [
        "X_train, X_test, y_train, y_test = train_test_split(X_pf, y, test_size=0.3, \n",
        "                                                    random_state=72018)"
      ]
    },
    {
      "cell_type": "markdown",
      "metadata": {
        "id": "hSB7pt9pggFU"
      },
      "source": [
        "**Fit `StandardScaler` on `X_train` as before**"
      ]
    },
    {
      "cell_type": "code",
      "execution_count": 30,
      "metadata": {
        "id": "Tez1grKBggFU"
      },
      "outputs": [],
      "source": [
        "s = StandardScaler()\n",
        "X_train_s = s.fit_transform(X_train)"
      ]
    },
    {
      "cell_type": "markdown",
      "metadata": {
        "id": "AJtl7RxKggFU"
      },
      "source": [
        "**Discuss: what transformation do we need to apply next?**\n",
        "\n",
        "Apply the appropriate transformation."
      ]
    },
    {
      "cell_type": "code",
      "execution_count": 31,
      "metadata": {
        "id": "DQPhtUDPggFV"
      },
      "outputs": [],
      "source": [
        "pass # your code here"
      ]
    },
    {
      "cell_type": "code",
      "execution_count": 32,
      "metadata": {
        "id": "zC0gLQDpggFV"
      },
      "outputs": [],
      "source": [
        "# Instructor Solution\n",
        "bc_result2 = boxcox(y_train)\n",
        "y_train_bc = bc_result2[0]\n",
        "lam2 = bc_result2[1]"
      ]
    },
    {
      "cell_type": "markdown",
      "metadata": {
        "id": "9eEVH9FtggFW"
      },
      "source": [
        "As before, we'll now:\n",
        "\n",
        "1. Fit regression\n",
        "1. Transform testing data\n",
        "1. Predict on testing data"
      ]
    },
    {
      "cell_type": "code",
      "execution_count": 33,
      "metadata": {
        "colab": {
          "base_uri": "https://localhost:8080/"
        },
        "id": "VrK9suE5ggFW",
        "outputId": "483a1770-2775-404c-fed9-ae60f0a85dcd"
      },
      "outputs": [
        {
          "output_type": "execute_result",
          "data": {
            "text/plain": [
              "(354,)"
            ]
          },
          "metadata": {},
          "execution_count": 33
        }
      ],
      "source": [
        "y_train_bc.shape"
      ]
    },
    {
      "cell_type": "code",
      "execution_count": 34,
      "metadata": {
        "id": "tSHhh6yZggFW"
      },
      "outputs": [],
      "source": [
        "lr.fit(X_train_s, y_train_bc)\n",
        "X_test_s = s.transform(X_test)\n",
        "y_pred_bc = lr.predict(X_test_s)"
      ]
    },
    {
      "cell_type": "markdown",
      "metadata": {
        "id": "oQSjKPNvggFW"
      },
      "source": [
        "### Discussion\n",
        "\n",
        "* Are we done?\n",
        "* What did we predict?\n",
        "* How would you interpret these predictions?"
      ]
    },
    {
      "cell_type": "markdown",
      "metadata": {
        "id": "ft2xjtzwggFW"
      },
      "source": [
        "#### Inverse transform"
      ]
    },
    {
      "cell_type": "markdown",
      "metadata": {
        "id": "VLQ-QXaZggFX"
      },
      "source": [
        "Every transformation has an inverse transformation. The inverse transformation of $f(x) = \\sqrt{x}$ is $f^{-1}(x) = x^2$, for example. Box cox has an inverse transformation as well: notice that we have to pass in the lambda value that we found from before:"
      ]
    },
    {
      "cell_type": "code",
      "execution_count": 39,
      "metadata": {
        "id": "wb-i2V6RggFX"
      },
      "outputs": [],
      "source": [
        "from scipy.special import inv_boxcox"
      ]
    },
    {
      "cell_type": "code",
      "execution_count": 40,
      "metadata": {
        "id": "gGNh6LSaggFX"
      },
      "outputs": [],
      "source": [
        "# code from above\n",
        "bc_result = boxcox(boston_data.MEDV)\n",
        "boxcox_medv = bc_result[0]\n",
        "lam = bc_result[1]"
      ]
    },
    {
      "cell_type": "code",
      "execution_count": 41,
      "metadata": {
        "colab": {
          "base_uri": "https://localhost:8080/"
        },
        "id": "PikUPsj-ggFX",
        "outputId": "9c56b1ce-6777-43cc-9d81-652eb43fa6ec"
      },
      "outputs": [
        {
          "output_type": "execute_result",
          "data": {
            "text/plain": [
              "array([24. , 21.6, 34.7, 33.4, 36.2, 28.7, 22.9, 27.1, 16.5, 18.9])"
            ]
          },
          "metadata": {},
          "execution_count": 41
        }
      ],
      "source": [
        "inv_boxcox(boxcox_medv, lam)[:10]"
      ]
    },
    {
      "cell_type": "code",
      "execution_count": 42,
      "metadata": {
        "colab": {
          "base_uri": "https://localhost:8080/"
        },
        "id": "zPoJiibwggFX",
        "outputId": "d453cdf7-c172-4e40-ce2d-d8ce5fdd64b1"
      },
      "outputs": [
        {
          "output_type": "execute_result",
          "data": {
            "text/plain": [
              "array([24. , 21.6, 34.7, 33.4, 36.2, 28.7, 22.9, 27.1, 16.5, 18.9])"
            ]
          },
          "metadata": {},
          "execution_count": 42
        }
      ],
      "source": [
        "boston_data['MEDV'].values[:10]"
      ]
    },
    {
      "cell_type": "markdown",
      "metadata": {
        "id": "aq9qbxZaggFY"
      },
      "source": [
        "Exactly the same, as we would hope!"
      ]
    },
    {
      "cell_type": "markdown",
      "metadata": {
        "id": "rY6zCCXrggFY"
      },
      "source": [
        "### Exercise:\n",
        "\n",
        "1. Apply the appropriate inverse transformation to `y_pred_bc`.\n",
        "2. Calculate the $R^2$ using the result of this inverse transformation and `y_test`.  \n",
        "\n",
        "**Hint:** Should be two lines of code."
      ]
    },
    {
      "cell_type": "code",
      "execution_count": 43,
      "metadata": {
        "id": "jEC_hz39ggFY"
      },
      "outputs": [],
      "source": [
        "pass # your code here"
      ]
    },
    {
      "cell_type": "code",
      "execution_count": 44,
      "metadata": {
        "colab": {
          "base_uri": "https://localhost:8080/"
        },
        "id": "sehRZmH4ggFY",
        "outputId": "6942bf99-419c-4282-cdab-c238a83f3b2c"
      },
      "outputs": [
        {
          "output_type": "execute_result",
          "data": {
            "text/plain": [
              "0.8794001851338568"
            ]
          },
          "metadata": {},
          "execution_count": 44
        }
      ],
      "source": [
        "# Instructor Solution\n",
        "y_pred_tran = inv_boxcox(y_pred_bc,lam2)\n",
        "r2_score(y_pred_tran,y_test)"
      ]
    },
    {
      "cell_type": "markdown",
      "metadata": {
        "id": "WZLBkQLGggFY"
      },
      "source": [
        "## LAB Exercise: \n",
        "\n",
        "### Determine the R^2 of a LinearRegression without the box cox transformation. Is it higher or lower?"
      ]
    },
    {
      "cell_type": "code",
      "execution_count": 45,
      "metadata": {
        "colab": {
          "base_uri": "https://localhost:8080/"
        },
        "id": "S1dLk4zSggFY",
        "outputId": "240ee3d0-7cc3-464b-9f26-f4825fd2e03e"
      },
      "outputs": [
        {
          "output_type": "execute_result",
          "data": {
            "text/plain": [
              "0.8555202098064171"
            ]
          },
          "metadata": {},
          "execution_count": 45
        }
      ],
      "source": [
        "### BEGIN SOLUTION\n",
        "lr = LinearRegression()\n",
        "lr.fit(X_train_s,y_train)\n",
        "lr_pred = lr.predict(X_test_s)\n",
        "r2_score(lr_pred,y_test)\n",
        "### END SOLUTION"
      ]
    },
    {
      "cell_type": "markdown",
      "metadata": {
        "id": "jMadHk_TggFZ"
      },
      "source": [
        "---\n",
        "### Machine Learning Foundation (C) 2020 IBM Corporation"
      ]
    },
    {
      "cell_type": "code",
      "source": [
        ""
      ],
      "metadata": {
        "id": "0pPZSIODiKKF"
      },
      "execution_count": null,
      "outputs": []
    }
  ],
  "metadata": {
    "kernelspec": {
      "display_name": "Python 3",
      "language": "python",
      "name": "python3"
    },
    "language_info": {
      "codemirror_mode": {
        "name": "ipython",
        "version": 3
      },
      "file_extension": ".py",
      "mimetype": "text/x-python",
      "name": "python",
      "nbconvert_exporter": "python",
      "pygments_lexer": "ipython3",
      "version": "3.7.6"
    },
    "colab": {
      "name": "supervised l_earning .ipynb",
      "provenance": [],
      "include_colab_link": true
    }
  },
  "nbformat": 4,
  "nbformat_minor": 0
}